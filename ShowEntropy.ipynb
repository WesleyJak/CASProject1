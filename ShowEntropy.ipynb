{
  "nbformat": 4,
  "nbformat_minor": 0,
  "metadata": {
    "colab": {
      "provenance": []
    },
    "kernelspec": {
      "name": "python3",
      "display_name": "Python 3"
    },
    "language_info": {
      "name": "python"
    }
  },
  "cells": [
    {
      "cell_type": "markdown",
      "source": [
        "Generates tables involving Shannon Entropy and Mutual Information."
      ],
      "metadata": {
        "id": "EdDqEnDADfDe"
      }
    },
    {
      "cell_type": "code",
      "source": [
        "import matplotlib.pyplot as plt\n",
        "import math\n",
        "import re\n",
        "import os\n",
        "\n",
        "# mount drive -- only applies if the dataset is in the drive. otherwise, point to relevant dataset\n",
        "from google.colab import drive"
      ],
      "metadata": {
        "id": "HGZgIv3wDf64"
      },
      "execution_count": null,
      "outputs": []
    },
    {
      "cell_type": "code",
      "source": [
        "from google.colab import drive\n",
        "drive.mount('/content/drive')"
      ],
      "metadata": {
        "colab": {
          "base_uri": "https://localhost:8080/"
        },
        "id": "KBE_0S_Y454b",
        "outputId": "2a49bd1e-d90c-4111-d42f-d1cdab637121"
      },
      "execution_count": null,
      "outputs": [
        {
          "output_type": "stream",
          "name": "stdout",
          "text": [
            "Mounted at /content/drive\n"
          ]
        }
      ]
    },
    {
      "cell_type": "code",
      "source": [
        "# drive.mount('/content/drive/')\n",
        "#dir = '/content/drive/My Drive/CAS-Assignment1/GraphGeneration/simcov_data/default'\n",
        "dir = '/content/drive/My Drive/CAS-Assignment1/GraphGeneration/simcov_data/fig3'\n"
      ],
      "metadata": {
        "id": "A2ErU3-E-bDG"
      },
      "execution_count": null,
      "outputs": []
    },
    {
      "cell_type": "code",
      "source": [
        "filename = 'simcov_3.stats'\n",
        "\n",
        "time = []\n",
        "incb = []\n",
        "expr = []\n",
        "apop = []\n",
        "dead = []\n",
        "tvas = []\n",
        "ttis = []\n",
        "chem = []\n",
        "virs = []\n",
        "chempts = []\n",
        "infct = []\n",
        "\n",
        "def makeSimpleTimeSeries(x_init, r, numSteps):\n",
        "  x_old = x_init\n",
        "  xs = [x_init]\n",
        "\n",
        "  for i in range(0, numSteps):\n",
        "    x_new = r * x_old * (1 - x_old)\n",
        "    x_old = x_new\n",
        "    xs.append(x_new)\n",
        "\n",
        "  return xs\n",
        "\n",
        "def getShannonEntropy(relativePops, basePop, startInd=None, endInd=None):\n",
        "  popToOccurences = {} # dict from population size to number of occurences\n",
        "\n",
        "  if startInd is None:\n",
        "    startInd = 0\n",
        "\n",
        "  if endInd is None:\n",
        "    endInd = len(relativePops) - 1\n",
        "\n",
        "  numPops = endInd - startInd + 1\n",
        "\n",
        "  for i in range(startInd, endInd, 1):\n",
        "    pop = math.floor(relativePops[i] * basePop)\n",
        "\n",
        "    if pop in popToOccurences:\n",
        "      popToOccurences[pop] = popToOccurences[pop] + 1\n",
        "    else:\n",
        "      popToOccurences[pop] = 1\n",
        "\n",
        "  sum = 0\n",
        "\n",
        "  for pop, occurenceCount in popToOccurences.items():\n",
        "    probability = occurenceCount / numPops\n",
        "\n",
        "    sum = sum + probability * math.log2(probability)\n",
        "\n",
        "  return -sum\n",
        "\n",
        "\n",
        "def getMutualInformation(relativePops1, relativePops2, basePop, startInd=None, endInd=None):\n",
        "  popToOccurences = {} # dict from population size to { [1] = occurences1, [2] = occurences2 }\n",
        "\n",
        "  if startInd is None:\n",
        "    startInd = 0\n",
        "\n",
        "  if endInd is None:\n",
        "    endInd = len(relativePops1) - 1\n",
        "\n",
        "  numPops = endInd - startInd + 1\n",
        "\n",
        "  for i in range(startInd, endInd, 1):\n",
        "    pop1 = math.floor(relativePops1[i] * basePop)\n",
        "    pop2 = math.floor(relativePops2[i] * basePop)\n",
        "\n",
        "    if pop1 in popToOccurences:\n",
        "      popToOccurences[pop1][1] = popToOccurences[pop1][1] + 1\n",
        "    else:\n",
        "      popToOccurences[pop1] = { 1:1, 2:0 }\n",
        "\n",
        "    if pop2 in popToOccurences:\n",
        "      popToOccurences[pop2][2] = popToOccurences[pop2][2] + 1\n",
        "    else:\n",
        "      popToOccurences[pop2] = { 1:0, 2:1 }\n",
        "\n",
        "  sum = 0\n",
        "\n",
        "  for pop, occurences in popToOccurences.items():\n",
        "    prob1 = occurences[1] / numPops\n",
        "    prob2 = occurences[2] / numPops\n",
        "\n",
        "    # The two runs are independent, so P(A or B) = P(A) + P(B) - P(A and B) = P(A) + P(B) - P(A) * P(B)\n",
        "    probJoint = prob1 + prob2 - prob1 * prob2\n",
        "\n",
        "    # I(X;Y) = H(X) + H(Y) - H(X or Y)\n",
        "    sum = sum +\\\n",
        "      prob1 * math.log2( prob1 if prob1 > 0 else 1 ) +\\\n",
        "      prob2 * math.log2( prob2 if prob2 > 0 else 1 ) -\\\n",
        "      probJoint * math.log2( probJoint )\n",
        "\n",
        "  return -sum\n",
        "\n",
        "\n",
        "# map incoming data to lists for plotting\n",
        "with open(os.path.join(dir, filename), \"r\") as f:\n",
        "  for line in f:\n",
        "    if line.startswith('#'):\n",
        "      continue\n",
        "    data = line.split('\\t')\n",
        "    time.append(float(data[0]) / 1440)\n",
        "    incb.append(float(data[1]))\n",
        "    expr.append(float(data[2]))\n",
        "    apop.append(float(data[3]))\n",
        "    dead.append(float(data[4]))\n",
        "    tvas.append(float(data[5]))\n",
        "    ttis.append(float(data[6]))\n",
        "    chem.append(float(data[7]))\n",
        "    virs.append(float(data[8]))\n",
        "    chempts.append(float(data[9]))\n",
        "    infct.append(float(data[10]))\n"
      ],
      "metadata": {
        "id": "MmA_dC71_3vs"
      },
      "execution_count": null,
      "outputs": []
    },
    {
      "cell_type": "code",
      "source": [
        "numTimeSteps = 200\n",
        "basePopulationSize = 100\n",
        "divergentTimeStep = 25\n",
        "x_init_a = 0.3\n",
        "x_init_b = 0.300001\n",
        "r_1 = 2.9 # Stable populations\n",
        "r_2 = 3.5 # Periodic populations\n",
        "r_3 = 3.7 # Chaotic populations\n",
        "\n",
        "\n",
        "xs_1a = makeSimpleTimeSeries(x_init_a, r_1, numTimeSteps)\n",
        "xs_1b = makeSimpleTimeSeries(x_init_b, r_1, numTimeSteps)\n",
        "\n",
        "xs_2a = makeSimpleTimeSeries(x_init_a, r_2, numTimeSteps)\n",
        "xs_2b = makeSimpleTimeSeries(x_init_b, r_2, numTimeSteps)\n",
        "\n",
        "xs_3a = makeSimpleTimeSeries(x_init_a, r_3, numTimeSteps)\n",
        "xs_3b = makeSimpleTimeSeries(x_init_b, r_3, numTimeSteps)\n",
        "\n",
        "\n",
        "print(\"n = \" + str(divergentTimeStep))\n",
        "print()\n",
        "\n",
        "print(\"H(1..n in chaotic_a) = \" + str(getShannonEntropy(xs_3a, basePopulationSize, 1, divergentTimeStep)))\n",
        "print(\"H(n+1..N in chaotic_a) = \" + str(getShannonEntropy(xs_3a, basePopulationSize, divergentTimeStep + 1, numTimeSteps)))\n",
        "print()\n",
        "\n",
        "print(\"H(1..n in periodic_a) = \" + str(getShannonEntropy(xs_2a, basePopulationSize, 1, divergentTimeStep)))\n",
        "print(\"H(n+1..N in periodic_a) = \" + str(getShannonEntropy(xs_2a, basePopulationSize, divergentTimeStep + 1, numTimeSteps)))\n",
        "print()\n",
        "\n",
        "print(\"MI(1..n in chaotic) = \" + str(getMutualInformation(xs_3a, xs_3b, basePopulationSize, 1, divergentTimeStep)))\n",
        "print(\"MI(n+1..N in chaotic) = \" + str(getMutualInformation(xs_3a, xs_3b, basePopulationSize, divergentTimeStep + 1, numTimeSteps)))\n",
        "print()\n",
        "\n",
        "print(\"MI(1..n in periodic) = \" + str(getMutualInformation(xs_2a, xs_2b, basePopulationSize, 1, divergentTimeStep)))\n",
        "print(\"MI(n+1..N in periodic) = \" + str(getMutualInformation(xs_2a, xs_2b, basePopulationSize, divergentTimeStep + 1, numTimeSteps)))\n",
        "print()\n",
        "\n",
        "\n"
      ],
      "metadata": {
        "colab": {
          "base_uri": "https://localhost:8080/"
        },
        "id": "7KlR2r6ritAM",
        "outputId": "256baac5-e1ef-42b1-91fd-b69095558d37"
      },
      "execution_count": null,
      "outputs": [
        {
          "output_type": "stream",
          "name": "stdout",
          "text": [
            "n = 25\n",
            "\n",
            "H(1..n in chaotic_a) = 4.058101942183733\n",
            "H(n+1..N in chaotic_a) = 5.5377237043391725\n",
            "\n",
            "H(1..n in periodic_a) = 3.8679064420971963\n",
            "H(n+1..N in periodic_a) = 1.9966970406535007\n",
            "\n",
            "MI(1..n in chaotic) = 1.9254592981307852\n",
            "MI(n+1..N in chaotic) = 1.7970570990922057\n",
            "\n",
            "MI(1..n in periodic) = 1.9972285087343387\n",
            "MI(n+1..N in periodic) = 1.904264527927898\n",
            "\n"
          ]
        }
      ]
    },
    {
      "cell_type": "code",
      "source": [
        "basePopulationSize = 100 / max(max(expr), max(ttis))\n",
        "startInd = None\n",
        "endInd = None\n",
        "\n",
        "print(\"H(expressing cells) = \" + str(getShannonEntropy(expr, basePopulationSize, startInd, endInd)))\n",
        "print(\"H(T cells) = \" + str(getShannonEntropy(ttis, basePopulationSize, startInd, endInd)))\n",
        "print(\"MI(expressing cells, T cells) = \" + str(getMutualInformation(expr, ttis, basePopulationSize, startInd, endInd)))\n",
        "print()"
      ],
      "metadata": {
        "colab": {
          "base_uri": "https://localhost:8080/"
        },
        "id": "gdIl8fZiAXbO",
        "outputId": "ac516fbc-8365-4a7d-87ee-1d45f4f72d2b"
      },
      "execution_count": null,
      "outputs": [
        {
          "output_type": "stream",
          "name": "stdout",
          "text": [
            "H(expressing cells) = 6.614456309192915\n",
            "H(T cells) = 6.149726293386289e-05\n",
            "MI(expressing cells, T cells) = 0.16223776285903707\n",
            "\n"
          ]
        }
      ]
    }
  ]
}